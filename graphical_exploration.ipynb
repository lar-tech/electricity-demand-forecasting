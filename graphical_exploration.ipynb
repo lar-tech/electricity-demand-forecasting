{
 "cells": [
  {
   "cell_type": "markdown",
   "id": "7840afca",
   "metadata": {},
   "source": [
    "# Graphical Exploration"
   ]
  },
  {
   "cell_type": "code",
   "execution_count": 1,
   "id": "4378dde3",
   "metadata": {},
   "outputs": [],
   "source": [
    "import numpy as np\n",
    "import matplotlib.pyplot as plt\n",
    "import pandas as pd"
   ]
  },
  {
   "cell_type": "code",
   "execution_count": 2,
   "id": "e37d23ff",
   "metadata": {},
   "outputs": [],
   "source": [
    "# load dataset\n",
    "df = pd.read_csv('data/dataset.csv', delimiter=';')\n",
    "df['Datetime'] = pd.to_datetime(df['Datetime'])"
   ]
  }
 ],
 "metadata": {
  "kernelspec": {
   "display_name": "Python 3",
   "language": "python",
   "name": "python3"
  },
  "language_info": {
   "codemirror_mode": {
    "name": "ipython",
    "version": 3
   },
   "file_extension": ".py",
   "mimetype": "text/x-python",
   "name": "python",
   "nbconvert_exporter": "python",
   "pygments_lexer": "ipython3",
   "version": "3.13.0"
  }
 },
 "nbformat": 4,
 "nbformat_minor": 5
}
