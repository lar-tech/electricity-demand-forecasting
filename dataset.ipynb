{
 "cells": [
  {
   "cell_type": "markdown",
   "id": "7840afca",
   "metadata": {},
   "source": [
    "# Electricity demand forecasting"
   ]
  },
  {
   "cell_type": "code",
   "execution_count": null,
   "id": "4378dde3",
   "metadata": {},
   "outputs": [],
   "source": [
    "import numpy as np\n",
    "import pandas as pd\n",
    "import matplotlib.pyplot as plt\n",
    "import requests\n",
    "import datetime"
   ]
  },
  {
   "cell_type": "code",
   "execution_count": 15,
   "id": "e37d23ff",
   "metadata": {},
   "outputs": [
    {
     "data": {
      "application/vnd.microsoft.datawrangler.viewer.v0+json": {
       "columns": [
        {
         "name": "index",
         "rawType": "int64",
         "type": "integer"
        },
        {
         "name": "Date",
         "rawType": "object",
         "type": "string"
        },
        {
         "name": "Time",
         "rawType": "object",
         "type": "string"
        },
        {
         "name": "Power [MW]",
         "rawType": "float64",
         "type": "float"
        }
       ],
       "ref": "88bfa79d-8777-49c2-b5c2-4d70d4cfef00",
       "rows": [
        [
         "384",
         "2015-01-05",
         "00:00",
         "56.0"
        ],
        [
         "385",
         "2015-01-05",
         "00:15",
         "56.0"
        ],
        [
         "386",
         "2015-01-05",
         "00:30",
         "56.0"
        ],
        [
         "387",
         "2015-01-05",
         "00:45",
         "56.0"
        ],
        [
         "388",
         "2015-01-05",
         "01:00",
         "56.25"
        ]
       ],
       "shape": {
        "columns": 3,
        "rows": 5
       }
      },
      "text/html": [
       "<div>\n",
       "<style scoped>\n",
       "    .dataframe tbody tr th:only-of-type {\n",
       "        vertical-align: middle;\n",
       "    }\n",
       "\n",
       "    .dataframe tbody tr th {\n",
       "        vertical-align: top;\n",
       "    }\n",
       "\n",
       "    .dataframe thead th {\n",
       "        text-align: right;\n",
       "    }\n",
       "</style>\n",
       "<table border=\"1\" class=\"dataframe\">\n",
       "  <thead>\n",
       "    <tr style=\"text-align: right;\">\n",
       "      <th></th>\n",
       "      <th>Date</th>\n",
       "      <th>Time</th>\n",
       "      <th>Power [MW]</th>\n",
       "    </tr>\n",
       "  </thead>\n",
       "  <tbody>\n",
       "    <tr>\n",
       "      <th>384</th>\n",
       "      <td>2015-01-05</td>\n",
       "      <td>00:00</td>\n",
       "      <td>56.00</td>\n",
       "    </tr>\n",
       "    <tr>\n",
       "      <th>385</th>\n",
       "      <td>2015-01-05</td>\n",
       "      <td>00:15</td>\n",
       "      <td>56.00</td>\n",
       "    </tr>\n",
       "    <tr>\n",
       "      <th>386</th>\n",
       "      <td>2015-01-05</td>\n",
       "      <td>00:30</td>\n",
       "      <td>56.00</td>\n",
       "    </tr>\n",
       "    <tr>\n",
       "      <th>387</th>\n",
       "      <td>2015-01-05</td>\n",
       "      <td>00:45</td>\n",
       "      <td>56.00</td>\n",
       "    </tr>\n",
       "    <tr>\n",
       "      <th>388</th>\n",
       "      <td>2015-01-05</td>\n",
       "      <td>01:00</td>\n",
       "      <td>56.25</td>\n",
       "    </tr>\n",
       "  </tbody>\n",
       "</table>\n",
       "</div>"
      ],
      "text/plain": [
       "           Date   Time  Power [MW]\n",
       "384  2015-01-05  00:00       56.00\n",
       "385  2015-01-05  00:15       56.00\n",
       "386  2015-01-05  00:30       56.00\n",
       "387  2015-01-05  00:45       56.00\n",
       "388  2015-01-05  01:00       56.25"
      ]
     },
     "execution_count": 15,
     "metadata": {},
     "output_type": "execute_result"
    }
   ],
   "source": [
    "# Load and clean the dataset\n",
    "data = pd.read_csv('data/dataset.csv', delimiter=';')\n",
    "data = data[data['Power [MW]'] != '-']\n",
    "data['Power [MW]'] = data['Power [MW]'].str.replace(',', '.').astype(float)\n",
    "data[['Date', 'Time']] = data['Date'].str.split(' ', expand=True)\n",
    "data['Date'] = pd.to_datetime(data['Date'], format='%d.%m.%Y').dt.strftime(\"%Y-%m-%d\")\n",
    "data = data.reindex(columns=['Date', 'Time', 'Power [MW]'])\n",
    "data.head()"
   ]
  },
  {
   "cell_type": "code",
   "execution_count": null,
   "id": "761c86b5",
   "metadata": {},
   "outputs": [
    {
     "data": {
      "application/vnd.microsoft.datawrangler.viewer.v0+json": {
       "columns": [
        {
         "name": "index",
         "rawType": "int64",
         "type": "integer"
        },
        {
         "name": "Date",
         "rawType": "object",
         "type": "string"
        },
        {
         "name": "Time",
         "rawType": "object",
         "type": "string"
        },
        {
         "name": "Power [MW]",
         "rawType": "float64",
         "type": "float"
        },
        {
         "name": "Holiday",
         "rawType": "bool",
         "type": "boolean"
        }
       ],
       "ref": "2142b0d4-1238-48da-ba65-4fa2a73856f0",
       "rows": [
        [
         "384",
         "2015-01-05",
         "00:00",
         "56.0",
         "False"
        ],
        [
         "385",
         "2015-01-05",
         "00:15",
         "56.0",
         "False"
        ],
        [
         "386",
         "2015-01-05",
         "00:30",
         "56.0",
         "False"
        ],
        [
         "387",
         "2015-01-05",
         "00:45",
         "56.0",
         "False"
        ],
        [
         "388",
         "2015-01-05",
         "01:00",
         "56.25",
         "False"
        ]
       ],
       "shape": {
        "columns": 4,
        "rows": 5
       }
      },
      "text/html": [
       "<div>\n",
       "<style scoped>\n",
       "    .dataframe tbody tr th:only-of-type {\n",
       "        vertical-align: middle;\n",
       "    }\n",
       "\n",
       "    .dataframe tbody tr th {\n",
       "        vertical-align: top;\n",
       "    }\n",
       "\n",
       "    .dataframe thead th {\n",
       "        text-align: right;\n",
       "    }\n",
       "</style>\n",
       "<table border=\"1\" class=\"dataframe\">\n",
       "  <thead>\n",
       "    <tr style=\"text-align: right;\">\n",
       "      <th></th>\n",
       "      <th>Date</th>\n",
       "      <th>Time</th>\n",
       "      <th>Power [MW]</th>\n",
       "      <th>Holiday</th>\n",
       "    </tr>\n",
       "  </thead>\n",
       "  <tbody>\n",
       "    <tr>\n",
       "      <th>384</th>\n",
       "      <td>2015-01-05</td>\n",
       "      <td>00:00</td>\n",
       "      <td>56.00</td>\n",
       "      <td>False</td>\n",
       "    </tr>\n",
       "    <tr>\n",
       "      <th>385</th>\n",
       "      <td>2015-01-05</td>\n",
       "      <td>00:15</td>\n",
       "      <td>56.00</td>\n",
       "      <td>False</td>\n",
       "    </tr>\n",
       "    <tr>\n",
       "      <th>386</th>\n",
       "      <td>2015-01-05</td>\n",
       "      <td>00:30</td>\n",
       "      <td>56.00</td>\n",
       "      <td>False</td>\n",
       "    </tr>\n",
       "    <tr>\n",
       "      <th>387</th>\n",
       "      <td>2015-01-05</td>\n",
       "      <td>00:45</td>\n",
       "      <td>56.00</td>\n",
       "      <td>False</td>\n",
       "    </tr>\n",
       "    <tr>\n",
       "      <th>388</th>\n",
       "      <td>2015-01-05</td>\n",
       "      <td>01:00</td>\n",
       "      <td>56.25</td>\n",
       "      <td>False</td>\n",
       "    </tr>\n",
       "  </tbody>\n",
       "</table>\n",
       "</div>"
      ],
      "text/plain": [
       "           Date   Time  Power [MW]  Holiday\n",
       "384  2015-01-05  00:00       56.00    False\n",
       "385  2015-01-05  00:15       56.00    False\n",
       "386  2015-01-05  00:30       56.00    False\n",
       "387  2015-01-05  00:45       56.00    False\n",
       "388  2015-01-05  01:00       56.25    False"
      ]
     },
     "execution_count": 25,
     "metadata": {},
     "output_type": "execute_result"
    }
   ],
   "source": [
    "url = \"https://digidates.de/api/v1/germanpublicholidays?year=2016&region=de-be\"\n",
    "response = requests.get(url)\n",
    "\n",
    "holidays = response.json()\n",
    "holiday_dates = [holiday for holiday in holidays.keys()]\n",
    "data['Holiday'] = data['Date'].isin(holiday_dates)\n",
    "data.head()"
   ]
  },
  {
   "cell_type": "code",
   "execution_count": 4,
   "id": "ffcb7851",
   "metadata": {},
   "outputs": [
    {
     "data": {
      "image/png": "[encoded data removed]",
      "text/plain": [
       "<Figure size 1000x400 with 1 Axes>"
      ]
     },
     "metadata": {},
     "output_type": "display_data"
    }
   ],
   "source": [
    "plt.figure(figsize=(10,4))\n",
    "plt.plot(data['Date'], data['Power [MW]'])\n",
    "plt.title('Power over Time')\n",
    "plt.xlabel('Time')\n",
    "plt.ylabel('Power [MW]')\n",
    "plt.tight_layout()\n",
    "plt.show()"
   ]
  },
  {
   "cell_type": "code",
   "execution_count": null,
   "id": "32500a98",
   "metadata": {},
   "outputs": [],
   "source": []
  }
 ],
 "metadata": {
  "kernelspec": {
   "display_name": "Python 3",
   "language": "python",
   "name": "python3"
  },
  "language_info": {
   "codemirror_mode": {
    "name": "ipython",
    "version": 3
   },
   "file_extension": ".py",
   "mimetype": "text/x-python",
   "name": "python",
   "nbconvert_exporter": "python",
   "pygments_lexer": "ipython3",
   "version": "3.12.0"
  }
 },
 "nbformat": 4,
 "nbformat_minor": 5
}
