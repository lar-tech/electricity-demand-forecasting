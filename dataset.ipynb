{
 "cells": [
  {
   "cell_type": "markdown",
   "id": "7840afca",
   "metadata": {},
   "source": [
    "# Electricity demand forecasting"
   ]
  },
  {
   "cell_type": "code",
   "execution_count": 5,
   "id": "4378dde3",
   "metadata": {},
   "outputs": [],
   "source": [
    "import pandas as pd\n",
    "import matplotlib.pyplot as plt\n",
    "import requests\n",
    "from meteostat import Hourly"
   ]
  },
  {
   "cell_type": "markdown",
   "id": "1fb6d83b",
   "metadata": {},
   "source": [
    "### Load and clean the data from power plant"
   ]
  },
  {
   "cell_type": "code",
   "execution_count": 6,
   "id": "e37d23ff",
   "metadata": {},
   "outputs": [],
   "source": [
    "df = pd.read_csv('data/power_plant.csv', delimiter=';')\n",
    "df = df[df['Power [MW]'] != '-']\n",
    "df['Power [MW]'] = df['Power [MW]'].str.replace(',', '.').astype(float)\n",
    "df[['Date', 'Time']] = df['Date'].str.split(' ', expand=True)\n",
    "df['Date'] = pd.to_datetime(df['Date'], format='%d.%m.%Y').dt.strftime(\"%Y-%m-%d\")\n",
    "df = df.reindex(columns=['Date', 'Time', 'Power [MW]'])"
   ]
  },
  {
   "cell_type": "markdown",
   "id": "2082b05a",
   "metadata": {},
   "source": [
    "### Fetch holiday data"
   ]
  },
  {
   "cell_type": "code",
   "execution_count": 7,
   "id": "761c86b5",
   "metadata": {},
   "outputs": [
    {
     "data": {
      "application/vnd.microsoft.datawrangler.viewer.v0+json": {
       "columns": [
        {
         "name": "index",
         "rawType": "int64",
         "type": "integer"
        },
        {
         "name": "Date",
         "rawType": "object",
         "type": "string"
        },
        {
         "name": "Time",
         "rawType": "object",
         "type": "string"
        },
        {
         "name": "Power [MW]",
         "rawType": "float64",
         "type": "float"
        },
        {
         "name": "Holiday",
         "rawType": "bool",
         "type": "boolean"
        }
       ],
       "ref": "6da5559e-d85f-488b-85d2-e4af64ef019e",
       "rows": [
        [
         "384",
         "2015-01-05",
         "00:00",
         "56.0",
         "False"
        ],
        [
         "385",
         "2015-01-05",
         "00:15",
         "56.0",
         "False"
        ],
        [
         "386",
         "2015-01-05",
         "00:30",
         "56.0",
         "False"
        ],
        [
         "387",
         "2015-01-05",
         "00:45",
         "56.0",
         "False"
        ],
        [
         "388",
         "2015-01-05",
         "01:00",
         "56.25",
         "False"
        ]
       ],
       "shape": {
        "columns": 4,
        "rows": 5
       }
      },
      "text/html": [
       "<div>\n",
       "<style scoped>\n",
       "    .dataframe tbody tr th:only-of-type {\n",
       "        vertical-align: middle;\n",
       "    }\n",
       "\n",
       "    .dataframe tbody tr th {\n",
       "        vertical-align: top;\n",
       "    }\n",
       "\n",
       "    .dataframe thead th {\n",
       "        text-align: right;\n",
       "    }\n",
       "</style>\n",
       "<table border=\"1\" class=\"dataframe\">\n",
       "  <thead>\n",
       "    <tr style=\"text-align: right;\">\n",
       "      <th></th>\n",
       "      <th>Date</th>\n",
       "      <th>Time</th>\n",
       "      <th>Power [MW]</th>\n",
       "      <th>Holiday</th>\n",
       "    </tr>\n",
       "  </thead>\n",
       "  <tbody>\n",
       "    <tr>\n",
       "      <th>384</th>\n",
       "      <td>2015-01-05</td>\n",
       "      <td>00:00</td>\n",
       "      <td>56.00</td>\n",
       "      <td>False</td>\n",
       "    </tr>\n",
       "    <tr>\n",
       "      <th>385</th>\n",
       "      <td>2015-01-05</td>\n",
       "      <td>00:15</td>\n",
       "      <td>56.00</td>\n",
       "      <td>False</td>\n",
       "    </tr>\n",
       "    <tr>\n",
       "      <th>386</th>\n",
       "      <td>2015-01-05</td>\n",
       "      <td>00:30</td>\n",
       "      <td>56.00</td>\n",
       "      <td>False</td>\n",
       "    </tr>\n",
       "    <tr>\n",
       "      <th>387</th>\n",
       "      <td>2015-01-05</td>\n",
       "      <td>00:45</td>\n",
       "      <td>56.00</td>\n",
       "      <td>False</td>\n",
       "    </tr>\n",
       "    <tr>\n",
       "      <th>388</th>\n",
       "      <td>2015-01-05</td>\n",
       "      <td>01:00</td>\n",
       "      <td>56.25</td>\n",
       "      <td>False</td>\n",
       "    </tr>\n",
       "  </tbody>\n",
       "</table>\n",
       "</div>"
      ],
      "text/plain": [
       "           Date   Time  Power [MW]  Holiday\n",
       "384  2015-01-05  00:00       56.00    False\n",
       "385  2015-01-05  00:15       56.00    False\n",
       "386  2015-01-05  00:30       56.00    False\n",
       "387  2015-01-05  00:45       56.00    False\n",
       "388  2015-01-05  01:00       56.25    False"
      ]
     },
     "execution_count": 7,
     "metadata": {},
     "output_type": "execute_result"
    }
   ],
   "source": [
    "# years = pd.to_datetime(df['Date'], format='%Y-%m-%d').dt.strftime(\"%Y\").unique()\n",
    "# holiday_dates = []\n",
    "# for year in years:\n",
    "#     url = f\"https://digidates.de/api/v1/germanpublicholidays?year={year}&region=de-be\"\n",
    "#     response = requests.get(url)\n",
    "#     holidays = response.json()\n",
    "#     [holiday_dates.append(holiday) for holiday in holidays.keys()]\n",
    "\n",
    "# holiday_df = pd.DataFrame(data={\"Date\": holiday_dates})\n",
    "# holiday_df.to_csv('data/holidays.csv')\n",
    "\n",
    "holiday_df = pd.read_csv('data/holidays.csv')\n",
    "df['Holiday'] = df['Date'].isin(holiday_df['Date'])\n",
    "df.head()"
   ]
  },
  {
   "cell_type": "markdown",
   "id": "7f24b27a",
   "metadata": {},
   "source": [
    "### Fetch weather data"
   ]
  },
  {
   "cell_type": "code",
   "execution_count": 8,
   "id": "214af83b",
   "metadata": {},
   "outputs": [],
   "source": [
    "# start = min(pd.to_datetime(df['Date'], format='%Y-%m-%d'))\n",
    "# latest_date = pd.to_datetime(df['Date'], format='%Y-%m-%d').max().strftime('%Y-%m-%d')\n",
    "# latest_time = df.loc[df['Date'] == latest_date, 'Time'].max()\n",
    "# end = pd.to_datetime(f\"{latest_date} {latest_time}\")\n",
    "\n",
    "# weather = Hourly('10384', start, end)\n",
    "# weather = weather.fetch()\n",
    "# weather.to_csv('data/weather_data.csv')\n",
    "\n",
    "weather_df = pd.read_csv('data/weather.csv')\n",
    "\n",
    "weather_df = weather_df.rename(columns={\n",
    "    'time': 'Date',\n",
    "    'temp': 'Temperature [°C]',\n",
    "    'dwpt': 'Dew Point [°C]',\n",
    "    'rhum': 'Relative Humidity [%]',\n",
    "    'prcp': 'Precipitation [mm]',\n",
    "    'snow': 'Snow depth [mm]',\n",
    "    'wdir': 'Wind Direction [°]',\n",
    "    'wspd': 'Average Wind Speed [km/s]',\n",
    "    'wpgt': 'Peak Wind Speed [km/s]',\n",
    "    'pres': 'Average Sea-Level Air Pressure [hPa]',\n",
    "    'tsun': 'Sunshine Duration [min]',\n",
    "    'coco': 'Weather Condition Code'\n",
    "})\n",
    "\n",
    "weather_df['Date'] = pd.to_datetime(weather_df['Date'])\n",
    "weather_df = weather_df.set_index('Date').sort_index()\n",
    "weather_df = weather_df.resample('15min').interpolate(method='linear')\n",
    "weather_df = weather_df.reset_index()\n",
    "weather_df[['Date', 'Time']] = weather_df['Date'].astype(str).str.split(' ', expand=True)\n",
    "weather_df['Time'] = pd.to_datetime(weather_df['Time'], format='%H:%M:%S').dt.strftime('%H:%M')\n",
    "\n",
    "df = pd.merge(df, weather_df, on=['Date', 'Time'], how='left')"
   ]
  }
 ],
 "metadata": {
  "kernelspec": {
   "display_name": "Python 3",
   "language": "python",
   "name": "python3"
  },
  "language_info": {
   "codemirror_mode": {
    "name": "ipython",
    "version": 3
   },
   "file_extension": ".py",
   "mimetype": "text/x-python",
   "name": "python",
   "nbconvert_exporter": "python",
   "pygments_lexer": "ipython3",
   "version": "3.12.0"
  }
 },
 "nbformat": 4,
 "nbformat_minor": 5
}
