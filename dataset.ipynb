{
 "cells": [
  {
   "cell_type": "markdown",
   "id": "7840afca",
   "metadata": {},
   "source": [
    "# Electricity demand forecasting"
   ]
  },
  {
   "cell_type": "code",
   "execution_count": 3,
   "id": "4378dde3",
   "metadata": {},
   "outputs": [],
   "source": [
    "import numpy as np\n",
    "import pandas as pd"
   ]
  },
  {
   "cell_type": "code",
   "execution_count": null,
   "id": "e37d23ff",
   "metadata": {},
   "outputs": [
    {
     "name": "stdout",
     "output_type": "stream",
     "text": [
      "      From Date From Time     To Date To Time  Power [MW]\n",
      "384  05.01.2015     00:00  05.01.2015   00:15       56.00\n",
      "385  05.01.2015     00:15  05.01.2015   00:30       56.00\n",
      "386  05.01.2015     00:30  05.01.2015   00:45       56.00\n",
      "387  05.01.2015     00:45  05.01.2015   01:00       56.00\n",
      "388  05.01.2015     01:00  05.01.2015   01:15       56.25\n"
     ]
    }
   ],
   "source": [
    "# Load and clean the dataset\n",
    "data = pd.read_csv('data/dataset.csv', delimiter=';')\n",
    "data = data[data['Power [MW]'] != '-']\n",
    "data['Power [MW]'] = data['Power [MW]'].str.replace(',', '.').astype(float)\n",
    "data[['From Date', 'From Time']] = data['From'].str.split(' ', expand=True)\n",
    "data[['To Date', 'To Time']] = data['To'].str.split(' ', expand=True)\n",
    "data = data.drop(columns=['From', 'To'])\n",
    "cols = [col for col in data.columns if col != 'Power [MW]'] + ['Power [MW]']\n",
    "data = data[cols]\n",
    "print(data.head())"
   ]
  },
  {
   "cell_type": "code",
   "execution_count": null,
   "id": "ffcb7851",
   "metadata": {},
   "outputs": [],
   "source": []
  }
 ],
 "metadata": {
  "kernelspec": {
   "display_name": "Python 3",
   "language": "python",
   "name": "python3"
  },
  "language_info": {
   "codemirror_mode": {
    "name": "ipython",
    "version": 3
   },
   "file_extension": ".py",
   "mimetype": "text/x-python",
   "name": "python",
   "nbconvert_exporter": "python",
   "pygments_lexer": "ipython3",
   "version": "3.12.0"
  }
 },
 "nbformat": 4,
 "nbformat_minor": 5
}
