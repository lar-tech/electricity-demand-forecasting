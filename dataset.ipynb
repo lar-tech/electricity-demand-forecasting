{
 "cells": [
  {
   "cell_type": "markdown",
   "id": "7840afca",
   "metadata": {},
   "source": [
    "# Dataset creation"
   ]
  },
  {
   "cell_type": "code",
   "execution_count": 1,
   "id": "4378dde3",
   "metadata": {},
   "outputs": [],
   "source": [
    "from datetime import timedelta\n",
    "from meteostat import Hourly\n",
    "import pandas as pd\n",
    "import requests"
   ]
  },
  {
   "cell_type": "code",
   "execution_count": 2,
   "id": "aa88b8fb",
   "metadata": {},
   "outputs": [],
   "source": [
    "def time_deltas(df: pd.DataFrame) -> pd.DataFrame:\n",
    "    df = df.sort_values('Datetime').reset_index(drop=True)\n",
    "    df['delta'] = df['Datetime'].diff()\n",
    "    print(df['delta'].value_counts().head(20))\n",
    "    gaps = df[df['delta'] == pd.Timedelta('135min')]\n",
    "    for i, row in gaps.iterrows():\n",
    "        start = df.loc[i - 1, 'Datetime']\n",
    "        end = row['Datetime']\n",
    "        print(f\"{start} - {end} ({row['delta']})\")\n",
    "\n",
    "def load_dataset(path: str) -> pd.DataFrame:\n",
    "    df = pd.read_csv(path, delimiter=';')\n",
    "    df['Datetime'] = pd.to_datetime(df['Datetime'], format='%Y-%m-%d %H:%M:00')\n",
    "    df['Datetime'] = (df['Datetime']\n",
    "                      .dt.tz_localize('Europe/Berlin', ambiguous='infer', nonexistent='shift_forward')\n",
    "                      .dt.tz_convert('UTC'))\n",
    "    return df"
   ]
  },
  {
   "cell_type": "code",
   "execution_count": 4,
   "id": "e37d23ff",
   "metadata": {},
   "outputs": [],
   "source": [
    "df = load_dataset(path='data/power_plant.csv')\n",
    "df_power_consumption = load_dataset(path='data/power_consumption.csv')\n",
    "df_power_generation = load_dataset(path='data/power_generation.csv')\n",
    "df_market = load_dataset(path='data/day_ahead_prices.csv')"
   ]
  },
  {
   "cell_type": "code",
   "execution_count": 5,
   "id": "761c86b5",
   "metadata": {},
   "outputs": [],
   "source": [
    "def fetch_holiday_data(years: list[int], region: str = 'de-be') -> pd.DataFrame:\n",
    "    holiday_dates = []\n",
    "    for year in years:\n",
    "        url = f\"https://digidates.de/api/v1/germanpublicholidays?year={year}&region={region}\"\n",
    "        response = requests.get(url)\n",
    "        holidays = response.json()\n",
    "        [holiday_dates.append(holiday) for holiday in holidays.keys()]\n",
    "\n",
    "    df_holidays = pd.DataFrame(data={\"Holiday\": holiday_dates})\n",
    "    return df_holidays\n",
    "\n",
    "# years = df['Datetime'].dt.strftime(\"%Y\").unique()\n",
    "# df_holidays = fetch_holiday_data(years=years)\n",
    "# df_holidays.to_csv('data/holidays.csv')\n",
    "\n",
    "df_holidays = pd.read_csv('data/holidays.csv')\n",
    "df_holidays['Holiday'] = pd.to_datetime(df_holidays['Holiday'], format='%Y-%m-%d').dt.date"
   ]
  },
  {
   "cell_type": "code",
   "execution_count": 6,
   "id": "214af83b",
   "metadata": {},
   "outputs": [],
   "source": [
    "def fetch_weather_data(start: pd.Timestamp, end: pd.Timestamp, station_id: str) -> pd.DataFrame:\n",
    "    df_weather = Hourly(station_id, start, end).fetch()\n",
    "    df_weather.index = df_weather.index.tz_localize('UTC')\n",
    "    df_weather = df_weather.reset_index()\n",
    "\n",
    "    df_weather = df_weather.rename(columns={\n",
    "        'time': 'Datetime',\n",
    "        'temp': 'Temperature',\n",
    "        'dwpt': 'Dew Point',\n",
    "        'rhum': 'Relative Humidity',\n",
    "        'prcp': 'Precipitation',\n",
    "        'snow': 'Snow Depth',\n",
    "        'wdir': 'Wind Direction',\n",
    "        'wspd': 'Average Wind Speed',\n",
    "        'wpgt': 'Peak Wind Speed',\n",
    "        'pres': 'Average Sea-Level Air Pressure',\n",
    "        'tsun': 'Sunshine Duration',\n",
    "        'coco': 'Weather Condition Code'\n",
    "    })\n",
    "\n",
    "    df_weather = (df_weather\n",
    "                    .set_index('Datetime')\n",
    "                    .sort_index()\n",
    "                    .resample('15min')\n",
    "                    .interpolate(method='linear')\n",
    "                    .reset_index())\n",
    "    \n",
    "    return df_weather\n",
    "\n",
    "# start = df['Datetime'].min().tz_localize(None)\n",
    "# end = df['Datetime'].max().tz_localize(None) + timedelta(hours=1)\n",
    "# df_weather = fetch_weather_data(start=start, end=end, station_id='10582')\n",
    "# df_weather.to_csv('data/weather.csv', index=False)\n",
    "\n",
    "df_weather = pd.read_csv('data/weather.csv')\n",
    "df_weather['Datetime'] = pd.to_datetime(df_weather['Datetime'])"
   ]
  },
  {
   "cell_type": "code",
   "execution_count": 7,
   "id": "9071b481",
   "metadata": {},
   "outputs": [],
   "source": [
    "# time-based features\n",
    "df['Holiday'] = df['Datetime'].dt.date.isin(df_holidays['Holiday'])\n",
    "df['Hour'] = df['Datetime'].dt.hour\n",
    "df['DayOfWeek'] = df['Datetime'].dt.dayofweek\n",
    "df['Month'] = df['Datetime'].dt.month\n",
    "df['IsWeekend'] = df['DayOfWeek'].isin([5,6]).astype(int)"
   ]
  },
  {
   "cell_type": "code",
   "execution_count": null,
   "id": "9947d10c",
   "metadata": {},
   "outputs": [],
   "source": [
    "# merge dataset\n",
    "df = pd.merge(df, df_weather, on=['Datetime'], how='left')\n",
    "df = pd.merge(df, df_power_consumption, on=['Datetime'], how='left')\n",
    "df = pd.merge(df, df_power_generation, on=['Datetime'], how='left')\n",
    "df = pd.merge(df, df_market, on=['Datetime'], how='left')"
   ]
  },
  {
   "cell_type": "code",
   "execution_count": null,
   "id": "f2925202",
   "metadata": {},
   "outputs": [],
   "source": [
    "# save dataset\n",
    "df.to_csv('data/dataset.csv', sep=';', index=False)"
   ]
  }
 ],
 "metadata": {
  "kernelspec": {
   "display_name": "Python 3",
   "language": "python",
   "name": "python3"
  },
  "language_info": {
   "codemirror_mode": {
    "name": "ipython",
    "version": 3
   },
   "file_extension": ".py",
   "mimetype": "text/x-python",
   "name": "python",
   "nbconvert_exporter": "python",
   "pygments_lexer": "ipython3",
   "version": "3.13.0"
  }
 },
 "nbformat": 4,
 "nbformat_minor": 5
}
